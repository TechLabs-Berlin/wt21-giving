{
 "cells": [
  {
   "cell_type": "code",
   "execution_count": 22,
   "metadata": {},
   "outputs": [],
   "source": [
    "import pandas as pd\n",
    "import seaborn as sns # For plotting\n",
    "import matplotlib.pyplot as plt\n",
    "import numpy as np\n",
    "from collections import Counter"
   ]
  },
  {
   "cell_type": "code",
   "execution_count": 18,
   "metadata": {},
   "outputs": [],
   "source": [
    "df_charity_navigator = pd.read_csv('/Users/Mariane/Documents/Giving/charity_data.csv')"
   ]
  },
  {
   "cell_type": "code",
   "execution_count": 9,
   "metadata": {},
   "outputs": [
    {
     "data": {
      "text/html": [
       "<div>\n",
       "<style scoped>\n",
       "    .dataframe tbody tr th:only-of-type {\n",
       "        vertical-align: middle;\n",
       "    }\n",
       "\n",
       "    .dataframe tbody tr th {\n",
       "        vertical-align: top;\n",
       "    }\n",
       "\n",
       "    .dataframe thead th {\n",
       "        text-align: right;\n",
       "    }\n",
       "</style>\n",
       "<table border=\"1\" class=\"dataframe\">\n",
       "  <thead>\n",
       "    <tr style=\"text-align: right;\">\n",
       "      <th></th>\n",
       "      <th>ascore</th>\n",
       "      <th>category</th>\n",
       "      <th>description</th>\n",
       "      <th>ein</th>\n",
       "      <th>tot_exp</th>\n",
       "      <th>admin_exp_p</th>\n",
       "      <th>fund_eff</th>\n",
       "      <th>fund_exp_p</th>\n",
       "      <th>program_exp_p</th>\n",
       "      <th>fscore</th>\n",
       "      <th>...</th>\n",
       "      <th>motto</th>\n",
       "      <th>name</th>\n",
       "      <th>tot_rev</th>\n",
       "      <th>score</th>\n",
       "      <th>state</th>\n",
       "      <th>subcategory</th>\n",
       "      <th>size</th>\n",
       "      <th>program_exp</th>\n",
       "      <th>fund_exp</th>\n",
       "      <th>admin_exp</th>\n",
       "    </tr>\n",
       "  </thead>\n",
       "  <tbody>\n",
       "    <tr>\n",
       "      <th>0</th>\n",
       "      <td>100.0</td>\n",
       "      <td>Environment</td>\n",
       "      <td>Working with Oregonians to enhance our quality...</td>\n",
       "      <td>93-0642086</td>\n",
       "      <td>917313.0</td>\n",
       "      <td>0.101</td>\n",
       "      <td>0.18</td>\n",
       "      <td>0.184</td>\n",
       "      <td>0.714</td>\n",
       "      <td>88.61</td>\n",
       "      <td>...</td>\n",
       "      <td>Great communities. Working lands. Iconic Places.</td>\n",
       "      <td>1000 Friends of Oregon</td>\n",
       "      <td>1022513.0</td>\n",
       "      <td>91.94</td>\n",
       "      <td>OR</td>\n",
       "      <td>Environmental Protection and Conservation</td>\n",
       "      <td>small</td>\n",
       "      <td>6.549615e+05</td>\n",
       "      <td>168785.592</td>\n",
       "      <td>92648.613</td>\n",
       "    </tr>\n",
       "    <tr>\n",
       "      <th>1</th>\n",
       "      <td>89.0</td>\n",
       "      <td>Arts, Culture, Humanities</td>\n",
       "      <td>Serving the metropolitan Baltimore area and th...</td>\n",
       "      <td>31-1770828</td>\n",
       "      <td>5053059.0</td>\n",
       "      <td>0.231</td>\n",
       "      <td>0.05</td>\n",
       "      <td>0.032</td>\n",
       "      <td>0.735</td>\n",
       "      <td>82.85</td>\n",
       "      <td>...</td>\n",
       "      <td>88.1 FM -. Your NPR News Station</td>\n",
       "      <td>WYPR</td>\n",
       "      <td>5685761.0</td>\n",
       "      <td>85.59</td>\n",
       "      <td>MD</td>\n",
       "      <td>Public Broadcasting and Media</td>\n",
       "      <td>mid</td>\n",
       "      <td>3.713998e+06</td>\n",
       "      <td>161697.888</td>\n",
       "      <td>1167256.629</td>\n",
       "    </tr>\n",
       "    <tr>\n",
       "      <th>2</th>\n",
       "      <td>70.0</td>\n",
       "      <td>Religion</td>\n",
       "      <td>VSS Catholic Communications is dedicated to an...</td>\n",
       "      <td>91-1857425</td>\n",
       "      <td>1891500.0</td>\n",
       "      <td>0.114</td>\n",
       "      <td>0.17</td>\n",
       "      <td>0.197</td>\n",
       "      <td>0.687</td>\n",
       "      <td>86.74</td>\n",
       "      <td>...</td>\n",
       "      <td>Spirit Catholic Radio Network</td>\n",
       "      <td>VSS Catholic Communications</td>\n",
       "      <td>2140836.0</td>\n",
       "      <td>76.80</td>\n",
       "      <td>NE</td>\n",
       "      <td>Religious Media and Broadcasting</td>\n",
       "      <td>small</td>\n",
       "      <td>1.299460e+06</td>\n",
       "      <td>372625.500</td>\n",
       "      <td>215631.000</td>\n",
       "    </tr>\n",
       "    <tr>\n",
       "      <th>3</th>\n",
       "      <td>93.0</td>\n",
       "      <td>Arts, Culture, Humanities</td>\n",
       "      <td>The mission of the Utah Symphony &amp; Opera is to...</td>\n",
       "      <td>51-0145980</td>\n",
       "      <td>22506582.0</td>\n",
       "      <td>0.092</td>\n",
       "      <td>0.08</td>\n",
       "      <td>0.054</td>\n",
       "      <td>0.852</td>\n",
       "      <td>91.03</td>\n",
       "      <td>...</td>\n",
       "      <td>Engaging, educating, and enriching lives</td>\n",
       "      <td>Utah Symphony &amp; Opera</td>\n",
       "      <td>22203175.0</td>\n",
       "      <td>91.95</td>\n",
       "      <td>UT</td>\n",
       "      <td>Performing Arts</td>\n",
       "      <td>big</td>\n",
       "      <td>1.917561e+07</td>\n",
       "      <td>1215355.428</td>\n",
       "      <td>2070605.544</td>\n",
       "    </tr>\n",
       "    <tr>\n",
       "      <th>4</th>\n",
       "      <td>100.0</td>\n",
       "      <td>Human Services</td>\n",
       "      <td>Funded solely by the footwear industry, Two Te...</td>\n",
       "      <td>22-2579809</td>\n",
       "      <td>5594243.0</td>\n",
       "      <td>0.126</td>\n",
       "      <td>0.12</td>\n",
       "      <td>0.122</td>\n",
       "      <td>0.750</td>\n",
       "      <td>86.23</td>\n",
       "      <td>...</td>\n",
       "      <td>Shoepeople Helping Shoepeople</td>\n",
       "      <td>Two Ten Footwear Foundation</td>\n",
       "      <td>6935506.0</td>\n",
       "      <td>90.26</td>\n",
       "      <td>MA</td>\n",
       "      <td>Social Services</td>\n",
       "      <td>mid</td>\n",
       "      <td>4.195682e+06</td>\n",
       "      <td>682497.646</td>\n",
       "      <td>704874.618</td>\n",
       "    </tr>\n",
       "  </tbody>\n",
       "</table>\n",
       "<p>5 rows × 23 columns</p>\n",
       "</div>"
      ],
      "text/plain": [
       "   ascore                   category  \\\n",
       "0   100.0                Environment   \n",
       "1    89.0  Arts, Culture, Humanities   \n",
       "2    70.0                   Religion   \n",
       "3    93.0  Arts, Culture, Humanities   \n",
       "4   100.0             Human Services   \n",
       "\n",
       "                                         description         ein     tot_exp  \\\n",
       "0  Working with Oregonians to enhance our quality...  93-0642086    917313.0   \n",
       "1  Serving the metropolitan Baltimore area and th...  31-1770828   5053059.0   \n",
       "2  VSS Catholic Communications is dedicated to an...  91-1857425   1891500.0   \n",
       "3  The mission of the Utah Symphony & Opera is to...  51-0145980  22506582.0   \n",
       "4  Funded solely by the footwear industry, Two Te...  22-2579809   5594243.0   \n",
       "\n",
       "   admin_exp_p  fund_eff  fund_exp_p  program_exp_p  fscore  ...  \\\n",
       "0        0.101      0.18       0.184          0.714   88.61  ...   \n",
       "1        0.231      0.05       0.032          0.735   82.85  ...   \n",
       "2        0.114      0.17       0.197          0.687   86.74  ...   \n",
       "3        0.092      0.08       0.054          0.852   91.03  ...   \n",
       "4        0.126      0.12       0.122          0.750   86.23  ...   \n",
       "\n",
       "                                              motto  \\\n",
       "0  Great communities. Working lands. Iconic Places.   \n",
       "1                  88.1 FM -. Your NPR News Station   \n",
       "2                     Spirit Catholic Radio Network   \n",
       "3          Engaging, educating, and enriching lives   \n",
       "4                     Shoepeople Helping Shoepeople   \n",
       "\n",
       "                          name     tot_rev  score state  \\\n",
       "0       1000 Friends of Oregon   1022513.0  91.94    OR   \n",
       "1                         WYPR   5685761.0  85.59    MD   \n",
       "2  VSS Catholic Communications   2140836.0  76.80    NE   \n",
       "3        Utah Symphony & Opera  22203175.0  91.95    UT   \n",
       "4  Two Ten Footwear Foundation   6935506.0  90.26    MA   \n",
       "\n",
       "                                 subcategory   size   program_exp  \\\n",
       "0  Environmental Protection and Conservation  small  6.549615e+05   \n",
       "1              Public Broadcasting and Media    mid  3.713998e+06   \n",
       "2           Religious Media and Broadcasting  small  1.299460e+06   \n",
       "3                            Performing Arts    big  1.917561e+07   \n",
       "4                            Social Services    mid  4.195682e+06   \n",
       "\n",
       "      fund_exp    admin_exp  \n",
       "0   168785.592    92648.613  \n",
       "1   161697.888  1167256.629  \n",
       "2   372625.500   215631.000  \n",
       "3  1215355.428  2070605.544  \n",
       "4   682497.646   704874.618  \n",
       "\n",
       "[5 rows x 23 columns]"
      ]
     },
     "execution_count": 9,
     "metadata": {},
     "output_type": "execute_result"
    }
   ],
   "source": [
    "df_charity_navigator.head()"
   ]
  },
  {
   "cell_type": "code",
   "execution_count": 8,
   "metadata": {},
   "outputs": [
    {
     "data": {
      "text/plain": [
       "ascore           float64\n",
       "category          object\n",
       "description       object\n",
       "ein               object\n",
       "tot_exp          float64\n",
       "admin_exp_p      float64\n",
       "fund_eff         float64\n",
       "fund_exp_p       float64\n",
       "program_exp_p    float64\n",
       "fscore           float64\n",
       "leader            object\n",
       "leader_comp      float64\n",
       "leader_comp_p    float64\n",
       "motto             object\n",
       "name              object\n",
       "tot_rev          float64\n",
       "score            float64\n",
       "state             object\n",
       "subcategory       object\n",
       "size              object\n",
       "program_exp      float64\n",
       "fund_exp         float64\n",
       "admin_exp        float64\n",
       "dtype: object"
      ]
     },
     "execution_count": 8,
     "metadata": {},
     "output_type": "execute_result"
    }
   ],
   "source": [
    "df_charity_navigator.dtypes"
   ]
  },
  {
   "cell_type": "code",
   "execution_count": 14,
   "metadata": {},
   "outputs": [
    {
     "data": {
      "text/html": [
       "<div>\n",
       "<style scoped>\n",
       "    .dataframe tbody tr th:only-of-type {\n",
       "        vertical-align: middle;\n",
       "    }\n",
       "\n",
       "    .dataframe tbody tr th {\n",
       "        vertical-align: top;\n",
       "    }\n",
       "\n",
       "    .dataframe thead th {\n",
       "        text-align: right;\n",
       "    }\n",
       "</style>\n",
       "<table border=\"1\" class=\"dataframe\">\n",
       "  <thead>\n",
       "    <tr style=\"text-align: right;\">\n",
       "      <th></th>\n",
       "      <th>count</th>\n",
       "      <th>mean</th>\n",
       "      <th>std</th>\n",
       "      <th>min</th>\n",
       "      <th>25%</th>\n",
       "      <th>50%</th>\n",
       "      <th>75%</th>\n",
       "      <th>max</th>\n",
       "    </tr>\n",
       "  </thead>\n",
       "  <tbody>\n",
       "    <tr>\n",
       "      <th>ascore</th>\n",
       "      <td>8408.0</td>\n",
       "      <td>9.072490e+01</td>\n",
       "      <td>9.771194e+00</td>\n",
       "      <td>28.000</td>\n",
       "      <td>8.900000e+01</td>\n",
       "      <td>9.300000e+01</td>\n",
       "      <td>9.700000e+01</td>\n",
       "      <td>1.000000e+02</td>\n",
       "    </tr>\n",
       "    <tr>\n",
       "      <th>tot_exp</th>\n",
       "      <td>8408.0</td>\n",
       "      <td>1.448428e+07</td>\n",
       "      <td>6.943732e+07</td>\n",
       "      <td>53213.000</td>\n",
       "      <td>1.942998e+06</td>\n",
       "      <td>3.656226e+06</td>\n",
       "      <td>8.859808e+06</td>\n",
       "      <td>3.142984e+09</td>\n",
       "    </tr>\n",
       "    <tr>\n",
       "      <th>admin_exp_p</th>\n",
       "      <td>8408.0</td>\n",
       "      <td>1.057549e-01</td>\n",
       "      <td>6.338214e-02</td>\n",
       "      <td>0.001</td>\n",
       "      <td>6.300000e-02</td>\n",
       "      <td>9.500000e-02</td>\n",
       "      <td>1.350000e-01</td>\n",
       "      <td>7.420000e-01</td>\n",
       "    </tr>\n",
       "    <tr>\n",
       "      <th>fund_eff</th>\n",
       "      <td>8408.0</td>\n",
       "      <td>1.081101e-01</td>\n",
       "      <td>8.798233e-02</td>\n",
       "      <td>0.010</td>\n",
       "      <td>5.000000e-02</td>\n",
       "      <td>9.000000e-02</td>\n",
       "      <td>1.400000e-01</td>\n",
       "      <td>1.430000e+00</td>\n",
       "    </tr>\n",
       "    <tr>\n",
       "      <th>fund_exp_p</th>\n",
       "      <td>8408.0</td>\n",
       "      <td>8.773608e-02</td>\n",
       "      <td>6.488215e-02</td>\n",
       "      <td>0.001</td>\n",
       "      <td>4.500000e-02</td>\n",
       "      <td>7.700000e-02</td>\n",
       "      <td>1.150000e-01</td>\n",
       "      <td>9.160000e-01</td>\n",
       "    </tr>\n",
       "    <tr>\n",
       "      <th>program_exp_p</th>\n",
       "      <td>8408.0</td>\n",
       "      <td>8.050062e-01</td>\n",
       "      <td>9.413089e-02</td>\n",
       "      <td>0.047</td>\n",
       "      <td>7.570000e-01</td>\n",
       "      <td>8.140000e-01</td>\n",
       "      <td>8.650000e-01</td>\n",
       "      <td>9.970000e-01</td>\n",
       "    </tr>\n",
       "    <tr>\n",
       "      <th>fscore</th>\n",
       "      <td>8408.0</td>\n",
       "      <td>8.594618e+01</td>\n",
       "      <td>9.755404e+00</td>\n",
       "      <td>0.000</td>\n",
       "      <td>8.113000e+01</td>\n",
       "      <td>8.746000e+01</td>\n",
       "      <td>9.250000e+01</td>\n",
       "      <td>1.000000e+02</td>\n",
       "    </tr>\n",
       "    <tr>\n",
       "      <th>leader_comp</th>\n",
       "      <td>7972.0</td>\n",
       "      <td>1.641593e+05</td>\n",
       "      <td>1.453191e+05</td>\n",
       "      <td>0.000</td>\n",
       "      <td>8.997500e+04</td>\n",
       "      <td>1.316330e+05</td>\n",
       "      <td>1.977480e+05</td>\n",
       "      <td>3.691019e+06</td>\n",
       "    </tr>\n",
       "    <tr>\n",
       "      <th>leader_comp_p</th>\n",
       "      <td>7972.0</td>\n",
       "      <td>3.907003e-02</td>\n",
       "      <td>3.474296e-02</td>\n",
       "      <td>0.000</td>\n",
       "      <td>1.500000e-02</td>\n",
       "      <td>3.155000e-02</td>\n",
       "      <td>5.390000e-02</td>\n",
       "      <td>5.323000e-01</td>\n",
       "    </tr>\n",
       "    <tr>\n",
       "      <th>tot_rev</th>\n",
       "      <td>8408.0</td>\n",
       "      <td>1.582723e+07</td>\n",
       "      <td>7.557658e+07</td>\n",
       "      <td>-2049209.000</td>\n",
       "      <td>2.022281e+06</td>\n",
       "      <td>3.951672e+06</td>\n",
       "      <td>9.785276e+06</td>\n",
       "      <td>3.608002e+09</td>\n",
       "    </tr>\n",
       "    <tr>\n",
       "      <th>score</th>\n",
       "      <td>8408.0</td>\n",
       "      <td>8.686690e+01</td>\n",
       "      <td>8.046299e+00</td>\n",
       "      <td>14.480</td>\n",
       "      <td>8.326000e+01</td>\n",
       "      <td>8.831000e+01</td>\n",
       "      <td>9.202000e+01</td>\n",
       "      <td>1.000000e+02</td>\n",
       "    </tr>\n",
       "    <tr>\n",
       "      <th>program_exp</th>\n",
       "      <td>8408.0</td>\n",
       "      <td>1.243070e+07</td>\n",
       "      <td>6.349472e+07</td>\n",
       "      <td>35003.826</td>\n",
       "      <td>1.509136e+06</td>\n",
       "      <td>2.930645e+06</td>\n",
       "      <td>7.215094e+06</td>\n",
       "      <td>2.809828e+09</td>\n",
       "    </tr>\n",
       "    <tr>\n",
       "      <th>fund_exp</th>\n",
       "      <td>8408.0</td>\n",
       "      <td>8.929307e+05</td>\n",
       "      <td>4.355882e+06</td>\n",
       "      <td>332.850</td>\n",
       "      <td>1.421605e+05</td>\n",
       "      <td>2.935981e+05</td>\n",
       "      <td>6.431633e+05</td>\n",
       "      <td>2.011510e+08</td>\n",
       "    </tr>\n",
       "    <tr>\n",
       "      <th>admin_exp</th>\n",
       "      <td>8408.0</td>\n",
       "      <td>1.138578e+06</td>\n",
       "      <td>4.362716e+06</td>\n",
       "      <td>334.840</td>\n",
       "      <td>1.788179e+05</td>\n",
       "      <td>3.437180e+05</td>\n",
       "      <td>7.745598e+05</td>\n",
       "      <td>1.574086e+08</td>\n",
       "    </tr>\n",
       "  </tbody>\n",
       "</table>\n",
       "</div>"
      ],
      "text/plain": [
       "                count          mean           std          min           25%  \\\n",
       "ascore         8408.0  9.072490e+01  9.771194e+00       28.000  8.900000e+01   \n",
       "tot_exp        8408.0  1.448428e+07  6.943732e+07    53213.000  1.942998e+06   \n",
       "admin_exp_p    8408.0  1.057549e-01  6.338214e-02        0.001  6.300000e-02   \n",
       "fund_eff       8408.0  1.081101e-01  8.798233e-02        0.010  5.000000e-02   \n",
       "fund_exp_p     8408.0  8.773608e-02  6.488215e-02        0.001  4.500000e-02   \n",
       "program_exp_p  8408.0  8.050062e-01  9.413089e-02        0.047  7.570000e-01   \n",
       "fscore         8408.0  8.594618e+01  9.755404e+00        0.000  8.113000e+01   \n",
       "leader_comp    7972.0  1.641593e+05  1.453191e+05        0.000  8.997500e+04   \n",
       "leader_comp_p  7972.0  3.907003e-02  3.474296e-02        0.000  1.500000e-02   \n",
       "tot_rev        8408.0  1.582723e+07  7.557658e+07 -2049209.000  2.022281e+06   \n",
       "score          8408.0  8.686690e+01  8.046299e+00       14.480  8.326000e+01   \n",
       "program_exp    8408.0  1.243070e+07  6.349472e+07    35003.826  1.509136e+06   \n",
       "fund_exp       8408.0  8.929307e+05  4.355882e+06      332.850  1.421605e+05   \n",
       "admin_exp      8408.0  1.138578e+06  4.362716e+06      334.840  1.788179e+05   \n",
       "\n",
       "                        50%           75%           max  \n",
       "ascore         9.300000e+01  9.700000e+01  1.000000e+02  \n",
       "tot_exp        3.656226e+06  8.859808e+06  3.142984e+09  \n",
       "admin_exp_p    9.500000e-02  1.350000e-01  7.420000e-01  \n",
       "fund_eff       9.000000e-02  1.400000e-01  1.430000e+00  \n",
       "fund_exp_p     7.700000e-02  1.150000e-01  9.160000e-01  \n",
       "program_exp_p  8.140000e-01  8.650000e-01  9.970000e-01  \n",
       "fscore         8.746000e+01  9.250000e+01  1.000000e+02  \n",
       "leader_comp    1.316330e+05  1.977480e+05  3.691019e+06  \n",
       "leader_comp_p  3.155000e-02  5.390000e-02  5.323000e-01  \n",
       "tot_rev        3.951672e+06  9.785276e+06  3.608002e+09  \n",
       "score          8.831000e+01  9.202000e+01  1.000000e+02  \n",
       "program_exp    2.930645e+06  7.215094e+06  2.809828e+09  \n",
       "fund_exp       2.935981e+05  6.431633e+05  2.011510e+08  \n",
       "admin_exp      3.437180e+05  7.745598e+05  1.574086e+08  "
      ]
     },
     "execution_count": 14,
     "metadata": {},
     "output_type": "execute_result"
    }
   ],
   "source": [
    "df_charity_navigator.describe().transpose()"
   ]
  },
  {
   "cell_type": "code",
   "execution_count": 20,
   "metadata": {},
   "outputs": [
    {
     "data": {
      "text/html": [
       "<div>\n",
       "<style scoped>\n",
       "    .dataframe tbody tr th:only-of-type {\n",
       "        vertical-align: middle;\n",
       "    }\n",
       "\n",
       "    .dataframe tbody tr th {\n",
       "        vertical-align: top;\n",
       "    }\n",
       "\n",
       "    .dataframe thead th {\n",
       "        text-align: right;\n",
       "    }\n",
       "</style>\n",
       "<table border=\"1\" class=\"dataframe\">\n",
       "  <thead>\n",
       "    <tr style=\"text-align: right;\">\n",
       "      <th></th>\n",
       "      <th>count</th>\n",
       "      <th>unique</th>\n",
       "      <th>top</th>\n",
       "      <th>freq</th>\n",
       "    </tr>\n",
       "  </thead>\n",
       "  <tbody>\n",
       "    <tr>\n",
       "      <th>description</th>\n",
       "      <td>8408</td>\n",
       "      <td>8390</td>\n",
       "      <td>Vision</td>\n",
       "      <td>4</td>\n",
       "    </tr>\n",
       "    <tr>\n",
       "      <th>category</th>\n",
       "      <td>8408</td>\n",
       "      <td>11</td>\n",
       "      <td>Human Services</td>\n",
       "      <td>2379</td>\n",
       "    </tr>\n",
       "    <tr>\n",
       "      <th>motto</th>\n",
       "      <td>8395</td>\n",
       "      <td>7692</td>\n",
       "      <td>Live United</td>\n",
       "      <td>155</td>\n",
       "    </tr>\n",
       "    <tr>\n",
       "      <th>name</th>\n",
       "      <td>8408</td>\n",
       "      <td>8405</td>\n",
       "      <td>United Way of Forsyth County</td>\n",
       "      <td>2</td>\n",
       "    </tr>\n",
       "    <tr>\n",
       "      <th>subcategory</th>\n",
       "      <td>8408</td>\n",
       "      <td>37</td>\n",
       "      <td>Social Services</td>\n",
       "      <td>675</td>\n",
       "    </tr>\n",
       "  </tbody>\n",
       "</table>\n",
       "</div>"
      ],
      "text/plain": [
       "            count unique                           top  freq\n",
       "description  8408   8390                        Vision     4\n",
       "category     8408     11                Human Services  2379\n",
       "motto        8395   7692                   Live United   155\n",
       "name         8408   8405  United Way of Forsyth County     2\n",
       "subcategory  8408     37               Social Services   675"
      ]
     },
     "execution_count": 20,
     "metadata": {},
     "output_type": "execute_result"
    }
   ],
   "source": [
    "df_charity_navigator[['description', 'category', 'motto', 'name', 'subcategory']] \\\n",
    "    .describe(include=object) \\\n",
    "        .transpose()\n",
    "\n"
   ]
  },
  {
   "cell_type": "code",
   "execution_count": 23,
   "metadata": {},
   "outputs": [
    {
     "data": {
      "image/png": "[encoded data removed]",
      "text/plain": [
       "<Figure size 432x288 with 1 Axes>"
      ]
     },
     "metadata": {
      "needs_background": "light"
     },
     "output_type": "display_data"
    },
    {
     "data": {
      "text/plain": [
       "90.7249048525214"
      ]
     },
     "execution_count": 23,
     "metadata": {},
     "output_type": "execute_result"
    }
   ],
   "source": [
    "sns.histplot(df_charity_navigator[\"ascore\"], kde = True).set_title(\"Histogram of Score\")\n",
    "plt.show()\n",
    "\n",
    "df_charity_navigator['ascore'].mean()"
   ]
  },
  {
   "cell_type": "code",
   "execution_count": 22,
   "metadata": {},
   "outputs": [
    {
     "data": {
      "image/png": "[encoded data removed]",
      "text/plain": [
       "<Figure size 432x288 with 1 Axes>"
      ]
     },
     "metadata": {
      "needs_background": "light"
     },
     "output_type": "display_data"
    },
    {
     "data": {
      "text/plain": [
       "85.946183396765"
      ]
     },
     "execution_count": 22,
     "metadata": {},
     "output_type": "execute_result"
    }
   ],
   "source": [
    "sns.histplot(df_charity_navigator[\"fscore\"], kde = True).set_title(\"Histogram of Financial Score\")\n",
    "plt.show()\n",
    "\n",
    "df_charity_navigator['fscore'].mean()"
   ]
  },
  {
   "cell_type": "code",
   "execution_count": 30,
   "metadata": {},
   "outputs": [
    {
     "data": {
      "image/png": "[encoded data removed]",
      "text/plain": [
       "<Figure size 432x288 with 1 Axes>"
      ]
     },
     "metadata": {
      "needs_background": "light"
     },
     "output_type": "display_data"
    }
   ],
   "source": [
    "sns.boxplot(x = df_charity_navigator[\"score\"], y = df_charity_navigator[\"category\"]).set_title(\"Boxplot Score by Categories\")\n",
    "plt.show()"
   ]
  },
  {
   "cell_type": "code",
   "execution_count": 32,
   "metadata": {},
   "outputs": [
    {
     "data": {
      "image/png": "[encoded data removed]",
      "text/plain": [
       "<Figure size 432x288 with 1 Axes>"
      ]
     },
     "metadata": {
      "needs_background": "light"
     },
     "output_type": "display_data"
    }
   ],
   "source": [
    "sns.boxplot(x = df_charity_navigator[\"fund_exp\"], y = df_charity_navigator[\"category\"]).set_title(\"Boxplot Funding Expenses Percentage by category\")\n",
    "plt.show()\n"
   ]
  },
  {
   "cell_type": "code",
   "execution_count": 33,
   "metadata": {},
   "outputs": [
    {
     "data": {
      "image/png": "[encoded data removed]",
      "text/plain": [
       "<Figure size 432x288 with 1 Axes>"
      ]
     },
     "metadata": {
      "needs_background": "light"
     },
     "output_type": "display_data"
    }
   ],
   "source": [
    "sns.boxplot(x = df_charity_navigator[\"fund_eff\"], y = df_charity_navigator[\"category\"]).set_title(\"Funding Efficiency in $ by category\")\n",
    "plt.show()"
   ]
  },
  {
   "cell_type": "code",
   "execution_count": 6,
   "metadata": {},
   "outputs": [
    {
     "data": {
      "image/png": "[encoded data removed]",
      "text/plain": [
       "<Figure size 432x288 with 1 Axes>"
      ]
     },
     "metadata": {
      "needs_background": "light"
     },
     "output_type": "display_data"
    }
   ],
   "source": [
    "sns.boxplot(x = df_charity_navigator[\"fund_exp_p\"], y = df_charity_navigator[\"category\"])\n",
    "plt.show()"
   ]
  },
  {
   "cell_type": "code",
   "execution_count": 27,
   "metadata": {},
   "outputs": [
    {
     "data": {
      "text/html": [
       "<div>\n",
       "<style scoped>\n",
       "    .dataframe tbody tr th:only-of-type {\n",
       "        vertical-align: middle;\n",
       "    }\n",
       "\n",
       "    .dataframe tbody tr th {\n",
       "        vertical-align: top;\n",
       "    }\n",
       "\n",
       "    .dataframe thead th {\n",
       "        text-align: right;\n",
       "    }\n",
       "</style>\n",
       "<table border=\"1\" class=\"dataframe\">\n",
       "  <thead>\n",
       "    <tr style=\"text-align: right;\">\n",
       "      <th></th>\n",
       "      <th>score</th>\n",
       "      <th>category</th>\n",
       "      <th>name</th>\n",
       "      <th>fund_eff</th>\n",
       "    </tr>\n",
       "  </thead>\n",
       "  <tbody>\n",
       "    <tr>\n",
       "      <th>4333</th>\n",
       "      <td>14.48</td>\n",
       "      <td>Health</td>\n",
       "      <td>Wishing Well Foundation USA</td>\n",
       "      <td>0.84</td>\n",
       "    </tr>\n",
       "    <tr>\n",
       "      <th>6751</th>\n",
       "      <td>21.56</td>\n",
       "      <td>Human Services</td>\n",
       "      <td>Disabled Police and Sheriff's Foundation</td>\n",
       "      <td>0.90</td>\n",
       "    </tr>\n",
       "    <tr>\n",
       "      <th>6081</th>\n",
       "      <td>23.84</td>\n",
       "      <td>Human and Civil Rights</td>\n",
       "      <td>The Circle of Friends for American Veterans</td>\n",
       "      <td>0.69</td>\n",
       "    </tr>\n",
       "    <tr>\n",
       "      <th>4520</th>\n",
       "      <td>23.84</td>\n",
       "      <td>Health</td>\n",
       "      <td>Autism Spectrum Disorder Foundation</td>\n",
       "      <td>0.79</td>\n",
       "    </tr>\n",
       "    <tr>\n",
       "      <th>848</th>\n",
       "      <td>24.35</td>\n",
       "      <td>Human Services</td>\n",
       "      <td>Law Enforcement Education Program</td>\n",
       "      <td>0.83</td>\n",
       "    </tr>\n",
       "    <tr>\n",
       "      <th>...</th>\n",
       "      <td>...</td>\n",
       "      <td>...</td>\n",
       "      <td>...</td>\n",
       "      <td>...</td>\n",
       "    </tr>\n",
       "    <tr>\n",
       "      <th>7688</th>\n",
       "      <td>61.24</td>\n",
       "      <td>Health</td>\n",
       "      <td>Global Solutions for Infectious Diseases</td>\n",
       "      <td>0.07</td>\n",
       "    </tr>\n",
       "    <tr>\n",
       "      <th>3163</th>\n",
       "      <td>61.26</td>\n",
       "      <td>Human Services</td>\n",
       "      <td>Sephardic Food Fund</td>\n",
       "      <td>0.01</td>\n",
       "    </tr>\n",
       "    <tr>\n",
       "      <th>6625</th>\n",
       "      <td>61.48</td>\n",
       "      <td>Religion</td>\n",
       "      <td>Camp Highland</td>\n",
       "      <td>0.03</td>\n",
       "    </tr>\n",
       "    <tr>\n",
       "      <th>6368</th>\n",
       "      <td>61.71</td>\n",
       "      <td>Human and Civil Rights</td>\n",
       "      <td>Center of Concern</td>\n",
       "      <td>0.31</td>\n",
       "    </tr>\n",
       "    <tr>\n",
       "      <th>5726</th>\n",
       "      <td>61.78</td>\n",
       "      <td>Religion</td>\n",
       "      <td>Creative Ministries</td>\n",
       "      <td>0.14</td>\n",
       "    </tr>\n",
       "  </tbody>\n",
       "</table>\n",
       "<p>100 rows × 4 columns</p>\n",
       "</div>"
      ],
      "text/plain": [
       "      score                category  \\\n",
       "4333  14.48                  Health   \n",
       "6751  21.56          Human Services   \n",
       "6081  23.84  Human and Civil Rights   \n",
       "4520  23.84                  Health   \n",
       "848   24.35          Human Services   \n",
       "...     ...                     ...   \n",
       "7688  61.24                  Health   \n",
       "3163  61.26          Human Services   \n",
       "6625  61.48                Religion   \n",
       "6368  61.71  Human and Civil Rights   \n",
       "5726  61.78                Religion   \n",
       "\n",
       "                                             name  fund_eff  \n",
       "4333                  Wishing Well Foundation USA      0.84  \n",
       "6751     Disabled Police and Sheriff's Foundation      0.90  \n",
       "6081  The Circle of Friends for American Veterans      0.69  \n",
       "4520          Autism Spectrum Disorder Foundation      0.79  \n",
       "848             Law Enforcement Education Program      0.83  \n",
       "...                                           ...       ...  \n",
       "7688     Global Solutions for Infectious Diseases      0.07  \n",
       "3163                         Sephardic Food Fund       0.01  \n",
       "6625                                Camp Highland      0.03  \n",
       "6368                            Center of Concern      0.31  \n",
       "5726                          Creative Ministries      0.14  \n",
       "\n",
       "[100 rows x 4 columns]"
      ]
     },
     "execution_count": 27,
     "metadata": {},
     "output_type": "execute_result"
    }
   ],
   "source": [
    "df_charity_navigator.sort_values(by=['score', 'category'], ascending=[True, False], inplace=True)\n",
    "df_charity_navigator[['score', 'category', 'name', 'fund_eff']].head(100)"
   ]
  },
  {
   "cell_type": "code",
   "execution_count": 34,
   "metadata": {},
   "outputs": [
    {
     "data": {
      "image/png": "[encoded data removed]",
      "text/plain": [
       "<Figure size 432x288 with 1 Axes>"
      ]
     },
     "metadata": {
      "needs_background": "light"
     },
     "output_type": "display_data"
    }
   ],
   "source": [
    "\n",
    "df_charity_navigator[\"score_groups\"] = pd.cut(df_charity_navigator[\"ascore\"], [0, 10, 20, 30, 40, 50, 60, 70, 80, 90, 100])\n",
    "\n",
    "\n",
    "sns.boxplot(x = df_charity_navigator[\"fund_eff\"], y = df_charity_navigator[\"score_groups\"]).set_title(\"Funding Efficiency by Accountability Score Group\")\n",
    "plt.show()\n"
   ]
  },
  {
   "cell_type": "markdown",
   "metadata": {},
   "source": [
    "Text Analysis of Charity Descriptions"
   ]
  },
  {
   "cell_type": "code",
   "execution_count": 25,
   "metadata": {},
   "outputs": [
    {
     "data": {
      "text/plain": [
       "[('and', 44331),\n",
       " ('the', 32562),\n",
       " ('to', 25238),\n",
       " ('of', 24719),\n",
       " ('in', 17367),\n",
       " ('a', 12258),\n",
       " ('is', 9568),\n",
       " ('for', 9329),\n",
       " ('The', 6602),\n",
       " ('with', 5674),\n",
       " ('that', 5164),\n",
       " ('by', 4615),\n",
       " ('our', 4544),\n",
       " ('their', 3842),\n",
       " ('as', 3339),\n",
       " ('We', 3287),\n",
       " ('through', 3267),\n",
       " ('are', 3213),\n",
       " ('community', 2985),\n",
       " ('on', 2810)]"
      ]
     },
     "execution_count": 25,
     "metadata": {},
     "output_type": "execute_result"
    }
   ],
   "source": [
    "def my_tokenizer(text):\n",
    "    return text.split() if text != None else []\n",
    "tokens = df_charity_navigator.description.map(my_tokenizer).sum()\n",
    "counter = Counter(tokens)\n",
    "counter.most_common(20)\n"
   ]
  },
  {
   "cell_type": "code",
   "execution_count": 30,
   "metadata": {},
   "outputs": [
    {
     "data": {
      "text/plain": [
       "[('The', 6602),\n",
       " ('We', 3287),\n",
       " ('community', 2985),\n",
       " ('people', 2801),\n",
       " ('mission', 2711),\n",
       " ('programs', 2529),\n",
       " ('children', 2327),\n",
       " ('Our', 1913),\n",
       " ('families', 1804),\n",
       " ('provide', 1788),\n",
       " ('Founded', 1691),\n",
       " ('support', 1641),\n",
       " ('services', 1598),\n",
       " ('organization', 1527),\n",
       " ('education', 1465),\n",
       " ('public', 1416),\n",
       " ('providing', 1384),\n",
       " ('help', 1375),\n",
       " ('provides', 1363),\n",
       " ('Foundation', 1338)]"
      ]
     },
     "execution_count": 30,
     "metadata": {},
     "output_type": "execute_result"
    }
   ],
   "source": [
    "from spacy.lang.en.stop_words import STOP_WORDS\n",
    "\n",
    "def remove_stopwords(tokens):\n",
    "    return [t for t in tokens if t not in STOP_WORDS]\n",
    "\n",
    "counter = Counter(remove_stopwords(tokens))\n",
    "counter.most_common(20)"
   ]
  },
  {
   "cell_type": "code",
   "execution_count": 31,
   "metadata": {},
   "outputs": [
    {
     "data": {
      "text/plain": [
       "<AxesSubplot:xlabel='token'>"
      ]
     },
     "execution_count": 31,
     "metadata": {},
     "output_type": "execute_result"
    },
    {
     "data": {
      "image/png": "[encoded data removed]",
      "text/plain": [
       "<Figure size 432x288 with 1 Axes>"
      ]
     },
     "metadata": {
      "needs_background": "light"
     },
     "output_type": "display_data"
    }
   ],
   "source": [
    "freq_df = pd.DataFrame.from_records(counter.most_common(25), columns = ['token', 'count'])\n",
    "freq_df.plot(kind='bar', x='token')"
   ]
  }
 ],
 "metadata": {
  "interpreter": {
   "hash": "31f2aee4e71d21fbe5cf8b01ff0e069b9275f58929596ceb00d14d90e3e16cd6"
  },
  "kernelspec": {
   "display_name": "Python 3.8.9 64-bit",
   "language": "python",
   "name": "python3"
  },
  "language_info": {
   "codemirror_mode": {
    "name": "ipython",
    "version": 3
   },
   "file_extension": ".py",
   "mimetype": "text/x-python",
   "name": "python",
   "nbconvert_exporter": "python",
   "pygments_lexer": "ipython3",
   "version": "3.8.9"
  },
  "orig_nbformat": 4
 },
 "nbformat": 4,
 "nbformat_minor": 2
}
